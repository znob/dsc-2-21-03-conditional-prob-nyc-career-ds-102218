{
 "cells": [
  {
   "cell_type": "markdown",
   "metadata": {},
   "source": [
    "# Conditional Probability \n",
    "\n",
    "## Introduction\n",
    "\n",
    "Conditional Probability is an important part of learning Statistics, which is mandatory in order to eventually understand and practice Machine Learning and Artificial Intelligence. In this lesson, we shall talk about conditional probability, how and when to use it and what benefits does it carry towards analytical tasks. We shall later see how this simple idea becomes a key component in most statistical machine learning algorithms. \n",
    "\n",
    "## Objectives:\n",
    "You will be able to:"
   ]
  },
  {
   "cell_type": "markdown",
   "metadata": {},
   "source": [
    "* Differentiate between independent and dependent random events \n",
    "* Understand and Explain the conditional probability - P(A∩B) = P(A|B) x P(B)\n",
    "* Use the multiplication rule to find the probability of the intersection of two events\n",
    "* Understand and describe some important theorems based on conditional probabilities"
   ]
  },
  {
   "cell_type": "markdown",
   "metadata": {},
   "source": [
    "Let's quickly recap some of the basic ideas and terms which we shall later use in describing conditional probability use cases. \n",
    "\n",
    "## Events and Sample Space\n",
    "\n",
    "An **Event** is the outcome of a random experiment e.g. watching heads on tossing of a coin, or getting 3 after a dice roll are events.  We need to specify the sample space and the events to compute event probability. An event may also be collection of different events grouped together e.g. rolling a dice 4 times. A **Sample space** is a collection of every single possible outcome in a trial. As the number of trials increases, our sample space contains all the achievable outcomes. For example, sample space for random throw of a die is {1,2,3,4,5,6}. One of these will undoubtedly happen in the event of throwing a die. The sample space depicts each one of the conceivable outcomes that can happen when the experiment is performed.\n",
    "\n",
    "Events in a sample could be either **dependent** or **independent**. For two events P and Q, the chance that the occurring of event P doesn’t influence the occurring of event Q, these events are called as independent events. If the P occurrence of P is somehow dependent on occurrence of Q , P would be dependent on Q (think temporal data). \n",
    "\n"
   ]
  },
  {
   "cell_type": "markdown",
   "metadata": {},
   "source": [
    "### Independent Events"
   ]
  },
  {
   "cell_type": "markdown",
   "metadata": {},
   "source": [
    "Consider following independent events \n",
    "\n",
    "* Getting heads after flipping a coin AND getting a 5 on throw of a fair die.\n",
    "* Choosing a marble from a container AND getting heads in the flipping of a coin \n",
    "\n",
    "> Events A and B are __independent__ if $P(A \\cap B) = P(A)P(B)$, and $P (A \\cup B) = P(A) + P(B) -P(A \\cap B)$  Remember that event A tells us nothing about event B.\n",
    "\n",
    "![](ind1.jpg)\n",
    "What about the case of three events A, B and C?\n",
    "\n",
    "> Events A, B and C are __independent__ if \n",
    ">\n",
    "> \\begin\\{align\\}\n",
    ">     P(A \\cap B) &= P(A)P(B), P(A \\cap C) = P(A)P(C), P(B \\cap C) = P(B)P(C) \\\\\\\\\n",
    ">     P(A \\cap B \\cap C) &= P(A)P(B)P(C)\n",
    "> \\end\\{align\\}\n",
    ">\n",
    "> So you need both _pair-wise independence and three-way independence_.\n",
    "\n",
    "\n",
    "\n",
    "\n",
    "In contrast, events A and B are __disjoint__ if A occurring means that B cannot occur.\n",
    "\n",
    "![](disj.jpg)\n",
    "\n",
    "\n"
   ]
  },
  {
   "cell_type": "markdown",
   "metadata": {},
   "source": [
    "### Dependent Events \n",
    "\n",
    "When probability of occurrence of event A is somehow dependent or connected to occurrence of B, these become dependent events and this is where things start getting a bit more interesting. \n",
    "\n",
    "Consider this example, we characterize event A as getting a Red or Blue marble from the jug containing 3 red and 2 blue marbles (see image below).\n",
    "\n",
    "<img src=\"marb.svg\" width = 300>\n",
    "\n",
    "So the probability of getting a blue marble would initially be 2/5 and getting a red marble would be 3/5.\n",
    "\n",
    "<img src=\"cond3.gif\" width = 300>\n",
    "We at that point keep the marble out and after that take another marble from the jug. Here you can see that our second event is dependent on the outcome of first trial. IF we had a red marble in trial 1, the probability of getting a blue marble in trial 2 is 2/4. However, if we saw a blue marble in the first trial, the probability of seeing a blue in second trial becomes 1/4 etc. In simple terms, the probability of seeing an event B  in the second trial depends on the outcome A of the first trial , OR, P(B) is **conditional** on P(A).\n",
    "\n",
    "A **tree diagram** can be used to explain this for all possible events.\n",
    "\n",
    "\n",
    "<img src=\"tree.gif\" width = 500>"
   ]
  },
  {
   "cell_type": "markdown",
   "metadata": {},
   "source": [
    "## Conditional Probability \n",
    "\n",
    "> **Conditional Probability emerges in the examination of experiments where a result of a trial may influence the results of the upcoming trials.**"
   ]
  },
  {
   "cell_type": "markdown",
   "metadata": {},
   "source": [
    "While calculating the probability of the second event (event B) given that the primary event (event A) has just happened, if there is a chance that A's outcome might have tempered with the sample space in some way, we can securely say that the probability of event B is reliant on the occurrence of event A.\n",
    "\n",
    "Here are some more examples: \n",
    "\n",
    "* Drawing a 2nd Ace from a deck of cards given we got the initial Ace.\n",
    "* Finding the probability of liking \"Matrix\" given the individual prefers science fiction.\n",
    "\n",
    "If we consider event with P(A) as the probability of the event we are attempting to ascertain.\n",
    "Event B is the condition that we know or the event that has happened.\n",
    "\n",
    "We can compose the conditional probability (Probability of A **GIVEN** B) as :\n",
    "\n",
    "\n",
    "<img src=\"cond2.png\" width=300>\n",
    "\n",
    "\n",
    "> **P(A|B)**, the probability of the taking place of event A **given** that B has just happened. \n",
    "\n",
    "<img src=\"cond4.png\" width=300>\n",
    "\n",
    "Here’s how to derive the conditional probability equation shown above from the multiplication rule:\n",
    "\n",
    "Step 1: Write out the multiplication rule:\n",
    "* **P(A and B) = P(B)*P(A|B)**\n",
    "\n",
    "Step 2: Divide both sides of the equation by P(B):\n",
    "* **P(A and B) / P(B) = P(B)*P(A|B) / P(B)**\n",
    "\n",
    "Step 3: Cancel P(B) on the right side of the equation:\n",
    "* **P(A and B) / P(B) = P(A|B)**\n",
    "\n",
    "Step 4: Rewrite the equation:\n",
    "* **P(A|B) = P(A and B) / P(B)**\n",
    "\n",
    "And this is our conditional probability formula. Here we shall quickly summarize some variations and theorems which emerge from conditional probability that will be used for reference in later lessons. \n",
    "\n",
    "### Complement of an event\n",
    "\n",
    "#### P(A')  - read as \"Probability of the complement of Event A\" or \"Probability of A complement\" or even \"Probability of NOT A\"\n",
    "\n",
    "The complement is shown by a little mark after the letter such as A' (or sometimes A<sub>c</sub> or A<sup>c</sup>)\n",
    "\n",
    "<img src=\"comp.png\" width=500>\n",
    "\n",
    "\n",
    "If for a dice roll, event A is seeing a 5 is P(A) = 1/6 , then P(A') is the probability of all other events in the sample space i.e. 1/6* 5 = 5/6\n",
    "\n",
    "The two probabilities always add to 1\n",
    "* P(A) + P(A') = 1\n",
    "\n",
    ">  **Similarly P(A|B) + P(A'|B) = 1**\n"
   ]
  },
  {
   "cell_type": "markdown",
   "metadata": {},
   "source": [
    "## Theorem 1 - Product Rule\n",
    "The **Product rule** is useful when the conditional probability is easy to compute, but the probability of intersections of events are not. \n",
    "\n",
    "The intersection of events $A$ and $B$ can be given by\n",
    "\n",
    "\\begin{align}\n",
    "    P(A \\cap B) = P(B) P(A|B) = P(A) P(B|A)\n",
    "\\end{align}\n",
    "\n",
    "Note that if $A$ and $B$ are independent, then conditioning on $B$ means nothing (and vice-versa) so $P(A|B) = P(A)$, and $P(A \\cap B) = P(A) P(B)$ as we know already. "
   ]
  },
  {
   "cell_type": "markdown",
   "metadata": {},
   "source": [
    "## Theorem 2 - Chain Rule\n",
    "\n",
    "The **chain rule** (also called the general product rule) permits the calculation of any member of the joint distribution of a set of random variables using only conditional probabilities. \n",
    "\n",
    "We can rearrange the formula for conditional probability to get the product rule:\n",
    "\n",
    ">$P(A,B) = p(A|B) p(B)$\n",
    "\n",
    "We can extend this for three variables:\n",
    "\n",
    ">$P(A,B,C) = P(A| B,C) P(B,C) = P(A|B,C) P(B|C) P(C)$\n",
    "\n",
    "and in general to n variables:\n",
    "\n",
    "$$P(A1, A2, ..., An) = P(A1| A2, ..., An) P(A2| A3, ..., An) P(An-1|An) P(An)$$\n",
    "\n",
    "In general we refer to this as the chain rule.\n",
    "\n",
    "If on the other hand, \n",
    "\n",
    "if $C_1, C_2,...,C_m$ are disjoint events such that $C_1\\cup C_2\\cup ··· \\cup  C_m = \\Omega$ the probability of an arbitrary event can be expressed as:\n",
    "\n",
    "\\begin{align}\n",
    "P(A) = P(A | C_1)P(C_1) + P(A | C_2)P(C_2) + ··· + P(A | C_m)P(C_m)\n",
    "\\end{align}"
   ]
  },
  {
   "cell_type": "markdown",
   "metadata": {},
   "source": [
    "## Theorem 3 - Bayes rule\n",
    "\n",
    "The **Bayes theorem**, which is the outcome of this section. Below is the formula that we will dig deeper into , in upcoming lessons.\n",
    "\n",
    "\\begin{align}\n",
    "    P(A|B) = \\frac{P(B|A)P(A)}{P(B)} \\text{-        this follows from Theorem 1}\n",
    "\\end{align}"
   ]
  },
  {
   "cell_type": "markdown",
   "metadata": {},
   "source": [
    "## Example : An Aspiring Data Scientist's Dilemma\n",
    "\n",
    "Let's see a very simple use of conditional probability formula. A data scientist comes across following info-graphic:\n",
    "\n",
    "<img src=\"mood.jpg\" width=600>\n",
    "\n",
    "Curious as data scientists are, he starts collecting data about weather conditions and his own mood. \n",
    "\n",
    "Consider the data in the following table, recorded over a month with 30 days by our data scientist. On each day he recorded whether it was sunny (S), or not (NS), and whether his mood was good (G), or not (NG).\n",
    "<img src=\"x.png\" width=300>\n",
    "\n",
    "He wants to now know if his mood had anything to do with the weather on a particular day and how can he calculate the probability of having a good mood given the weather conditions. \n"
   ]
  },
  {
   "cell_type": "markdown",
   "metadata": {},
   "source": [
    "#### If he picked a day at random from the 30 days on record, what is the probability that he was in a good mood on that day, P(G)? \n",
    "\n",
    "* The sample space is the 30 days under discussion. \n",
    "* He was in a good mood on 9 + 6 = 15 of them so P(G) = 15/30 = 0.5"
   ]
  },
  {
   "cell_type": "markdown",
   "metadata": {},
   "source": [
    "#### What is the probability that the day chosen was a Sunny day, P(S)?\n",
    "\n",
    "* The sample space is still the 30 days under discussion. \n",
    "* It was sunny on 9 + 1 = 10 of them so P(S) = 10/30 ≈ 0.33"
   ]
  },
  {
   "cell_type": "markdown",
   "metadata": {},
   "source": [
    "#### What is probability of having a good mood given its a sunny day  P(G|S) ?\n",
    "\n",
    "* P(G|S) = P(G ∩ S) / P(S), hence we need to calculate P(G ∩ S) first. \n",
    "* Here the sample space is still the 30 days\n",
    "* G ∩ S consists of sunny days in which he is in a good mood and there were 9 of them. Hence P(G ∩ S) = 9/30\n",
    "* Therefore P(G|S) = (9/30)/(10/30) = 0.9\n",
    "\n",
    "The info-graphic had some truth in it indeed. There's a 90% chance that our curious data scientist would be in good mood given its a sunny day.  The outcome of this experiment is comforting for our data scientist and calls this a successful experiment. Surfing the Internet, he comes across another piece of information, although not very scientific, raises his curiosity further. \n",
    "\n",
    "<img src=\"mood2.jpg\" width=600>\n",
    "\n",
    "What if .... ?"
   ]
  },
  {
   "cell_type": "markdown",
   "metadata": {},
   "source": [
    "#### Now the data scientist wants to know weather his mood had any impact on the weather.  What is P(S|G)\n",
    "\n",
    "P(S|G) = P(G ∩ S)/P(G) = (9/30)/(15/30) = .6\n",
    "\n",
    "He finds that the probability is slightly higher than random chance. So in other words theres a 60% chance that it will be all nice and sunny if he is in a good mood. \n",
    "\n",
    "He also realizes that P(G|S) is not equal to P(S|G). So does this mean that weather has a higher impact over his mood than his mood has over the weather. \n",
    "<img src=\"whaaat.jpg\" width=300>\n",
    "\n",
    "\n",
    "Note that if we discover that P(A|B) is not equal to P(A), it  does not necessarily mean a cause effect relationship. In the example above, the weather and other such external conditions can have a positive effect on human mood and behavior, and this can be said with reference to literature. however it is unlikely that mood has any effect on weather, we do not have any scientific evidence to support this notion. \n",
    "\n",
    "Here we see that one can only go so far with Frequentist probabilities i.e. counting number of occurrences (frequencies) to work out the probability of an event. Frequentist methods do not allow the experimenter to augment his beliefs or other prior knowledge he has to an experimental design. So the experimenter would be mainly stuck with what he has observed. \n",
    "\n",
    "#### Say Hello to Reverend Thomas Bayes\n",
    "\n",
    "\n",
    "<img src=\"bayes.jpg\" width=300>"
   ]
  },
  {
   "cell_type": "markdown",
   "metadata": {},
   "source": [
    "See the P(A) in the equation trying to calculate P(A|B), this is called \"The Prior\" and let's us add our prior knowledge to a learning process, and is the very foundation of predictive machine learning algorithms. \n",
    "\n",
    "Our data scientist realizes that he needs to learn a bit of Bayesian reasoning in order to get more meaningful results. And that is exactly what we will discuss in this section. First we need to cover a few topics to fully understand how this simple equation lets you do some serious predictive analysis. Let's do a few exercises next to get a good grip of conditional probability calculations."
   ]
  },
  {
   "cell_type": "markdown",
   "metadata": {},
   "source": [
    "## Additional Resources\n",
    "\n",
    "You are strongly advised to visit following links to get an indpeth understanding with examples and proofs for formulas highlighted in this lesson. \n",
    "\n",
    "[Conditional probability, Independence and Bayes rule](http://faculty.arts.ubc.ca/vmarmer/econ327/327_02_cond_probability.pdf) - A deeper mathematical explanation around Independence and theorems we have seen above (and some we shall cover in upcoming lessons)\n",
    "\n",
    "[Tree Diagrams](https://www.mathsisfun.com/data/probability-tree-diagrams.html) - Drawing Tree diagrams to calculate conditional probability\n",
    "\n",
    "[Conditional Probability, Examples and simple exercises](https://www.mathgoodies.com/lessons/vol6/conditional) - Practice around probability calculations\n",
    "\n",
    "[Conditional probability: A visual explanation](http://setosa.io/conditional/) - A great little interactive animation to explain how conditional probability works"
   ]
  },
  {
   "cell_type": "markdown",
   "metadata": {},
   "source": [
    "## Summary \n",
    "\n",
    "In this lesson , we talked about the conditional probabilities in case we have dependent events in our sample space. We looked at the formula to calculate such probabilities with a brief proof. We also looked at an example to see this concept in action. In the upcoming lessons, we shall build further on these ideas towards having a clear understanding of Bayesian Logic and its role in machine learning. "
   ]
  }
 ],
 "metadata": {
  "kernelspec": {
   "display_name": "Python 3",
   "language": "python",
   "name": "python3"
  },
  "language_info": {
   "codemirror_mode": {
    "name": "ipython",
    "version": 3
   },
   "file_extension": ".py",
   "mimetype": "text/x-python",
   "name": "python",
   "nbconvert_exporter": "python",
   "pygments_lexer": "ipython3",
   "version": "3.6.6"
  }
 },
 "nbformat": 4,
 "nbformat_minor": 2
}
